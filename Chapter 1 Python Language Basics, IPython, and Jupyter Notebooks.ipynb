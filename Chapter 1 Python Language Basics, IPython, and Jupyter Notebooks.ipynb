{
 "cells": [
  {
   "cell_type": "markdown",
   "metadata": {},
   "source": [
    "# Tab Completion"
   ]
  },
  {
   "cell_type": "markdown",
   "metadata": {},
   "source": [
    "an_apple = 27\n",
    "an_example = 42\n",
    "an<Tab>\n",
    "\n",
    "b = [1,2,3]\n",
    "b.<Tab>\n",
    "\n",
    "import datetime\n",
    "datetime.<Tab>\n",
    "path = 'datasets/movielens/<Tab>'"
   ]
  },
  {
   "cell_type": "markdown",
   "metadata": {},
   "source": [
    "# Introspection"
   ]
  },
  {
   "cell_type": "markdown",
   "metadata": {},
   "source": [
    "#object introspection\n",
    "b = [1,2,3]\n",
    "b?\n",
    "print?\n",
    "#using ?? will also show the function's source code if possible\n",
    "\n",
    "#searching namespace \n",
    "np.*load*?"
   ]
  },
  {
   "cell_type": "markdown",
   "metadata": {},
   "source": [
    "%run python_file_name\n",
    "%load python_file #import a script into a code cell"
   ]
  },
  {
   "cell_type": "markdown",
   "metadata": {},
   "source": [
    "# Keyboard Shortcut"
   ]
  },
  {
   "cell_type": "markdown",
   "metadata": {},
   "source": [
    "Esc + m: Change to Markdown\n",
    "\n",
    "Ctrl-P or up-arrow Search backward in command history for commands starting with currently entered text\n",
    "Ctrl-N or down-arrow Search forward in command history for commands starting with currently entered text\n",
    "Ctrl-R Readline-style reverse history search (partial matching)\n",
    "Ctrl-Shift-V Paste text from clipboard\n",
    "Ctrl-C Interrupt currently executing code\n",
    "Ctrl-A Move cursor to beginning of line\n",
    "Ctrl-E Move cursor to end of line\n",
    "Ctrl-K Delete text from cursor until end of line\n",
    "Ctrl-U Discard all text on current line\n",
    "Ctrl-F Move cursor forward one character\n",
    "Ctrl-B Move cursor back one character\n",
    "Ctrl-L Clear screen\n"
   ]
  },
  {
   "cell_type": "code",
   "execution_count": 12,
   "metadata": {},
   "outputs": [
    {
     "name": "stdout",
     "output_type": "stream",
     "text": [
      "48 µs ± 977 ns per loop (mean ± std. dev. of 7 runs, 10000 loops each)\n"
     ]
    }
   ],
   "source": [
    "# Magic Commands\n",
    "import numpy as np\n",
    "a = np.random.randn(100,100)\n",
    "%timeit np.dot(a,a)\n",
    "\n",
    "%debug?\n",
    "%pdb"
   ]
  },
  {
   "cell_type": "markdown",
   "metadata": {},
   "source": [
    "%quickref Display the IPython Quick Reference Card\n",
    "%magic Display detailed documentation for all of the available magic commands\n",
    "%debug Enter the interactive debugger at the bottom of the last exception traceback\n",
    "%hist Print command input (and optionally output) history\n",
    "%pdb Automatically enter debugger after any exception\n",
    "%paste Execute preformatted Python code from clipboard\n",
    "%cpaste Open a special prompt for manually pasting Python code to be executed\n",
    "%reset Delete all variables/names defined in interactive namespace\n",
    "%page OBJECT Pretty-print the object and display it through a pager\n",
    "%run script.py Run a Python script inside IPython\n",
    "%prun statement Execute statement with cProfile and report the profiler output\n",
    "%time statement Report the execution time of a single statement\n",
    "%timeit statement Run a statement multiple times to compute an ensemble average execution time; useful for\n",
    "timing code with very short execution time\n",
    "%who, %who_ls, %whos Display variables defined in interactive namespace, with varying levels of information/\n",
    "verbosity\n",
    "%xdel variable Delete a variable and attempt to clear any references to the object in the IPython internals"
   ]
  },
  {
   "cell_type": "code",
   "execution_count": 15,
   "metadata": {},
   "outputs": [
    {
     "name": "stderr",
     "output_type": "stream",
     "text": [
      "Matplotlib is building the font cache; this may take a moment.\n"
     ]
    }
   ],
   "source": [
    "%matplotlib inline"
   ]
  },
  {
   "cell_type": "code",
   "execution_count": 16,
   "metadata": {},
   "outputs": [
    {
     "data": {
      "text/plain": [
       "[<matplotlib.lines.Line2D at 0x7fb58fc494f0>]"
      ]
     },
     "execution_count": 16,
     "metadata": {},
     "output_type": "execute_result"
    },
    {
     "data": {
      "image/png": "[encoded data removed]",
      "text/plain": [
       "<Figure size 432x288 with 1 Axes>"
      ]
     },
     "metadata": {
      "needs_background": "light"
     },
     "output_type": "display_data"
    }
   ],
   "source": [
    "import matplotlib.pyplot as plt\n",
    "plt.plot(np.random.randn(50).cumsum())"
   ]
  },
  {
   "cell_type": "markdown",
   "metadata": {},
   "source": [
    "When assigning a variable in Python, you are creating a reference to the object on the righthand side of the equals sign.\n",
    "Assignment is also referred to as binding, as we are binding a name to an object. Variable names that have been assigned may occasionally be referred to as bound variables."
   ]
  },
  {
   "cell_type": "markdown",
   "metadata": {},
   "source": [
    "When you pass objects as arguments to a function, new local variables are created referencing the origianl objects without any copying. \n",
    "If you bind a new object to a variable inside a function, that change will not be reflected in the parent scope.\n",
    "It is therefore possible to alter the internals of a mutable argument."
   ]
  },
  {
   "cell_type": "code",
   "execution_count": 17,
   "metadata": {},
   "outputs": [
    {
     "data": {
      "text/plain": [
       "[1, 2, 3, 4]"
      ]
     },
     "execution_count": 17,
     "metadata": {},
     "output_type": "execute_result"
    }
   ],
   "source": [
    "def append_element(some_list, element):\n",
    "    some_list.append(element)\n",
    "\n",
    "data = [1, 2, 3]\n",
    "append_element(data, 4)\n",
    "data"
   ]
  },
  {
   "cell_type": "code",
   "execution_count": 23,
   "metadata": {},
   "outputs": [
    {
     "data": {
      "text/plain": [
       "True"
      ]
     },
     "execution_count": 23,
     "metadata": {},
     "output_type": "execute_result"
    }
   ],
   "source": [
    "a = 3\n",
    "b = 8\n",
    "isinstance(a,int)\n",
    "isinstance(b,(int,float))"
   ]
  },
  {
   "cell_type": "markdown",
   "metadata": {},
   "source": [
    "Attributes and methods\n",
    "Duck Typing \"If it walks like a duck and quacks like a duck, then it's a duck\". A place to use is to write functions\n",
    "that can accept multiple kinds of input. A common case is writing a function that can accept any kind of sequence (list, tuple, ndarray) or even an iterator.\n",
    "You can first check if the object is a list (or a NumPy array) and, if it's not, convert it to be one:\n",
    "if not isinstance(x, list) and isiterable(x):\n",
    "    x = list(x)"
   ]
  },
  {
   "cell_type": "code",
   "execution_count": 25,
   "metadata": {},
   "outputs": [
    {
     "ename": "ModuleNotFoundError",
     "evalue": "No module named 'some_module'",
     "output_type": "error",
     "traceback": [
      "\u001b[0;31m---------------------------------------------------------------------------\u001b[0m",
      "\u001b[0;31mModuleNotFoundError\u001b[0m                       Traceback (most recent call last)",
      "\u001b[0;32m<ipython-input-25-088fcd8847dd>\u001b[0m in \u001b[0;36m<module>\u001b[0;34m\u001b[0m\n\u001b[0;32m----> 1\u001b[0;31m \u001b[0;32mimport\u001b[0m \u001b[0msome_module\u001b[0m \u001b[0;32mas\u001b[0m \u001b[0msm\u001b[0m\u001b[0;34m\u001b[0m\u001b[0;34m\u001b[0m\u001b[0m\n\u001b[0m\u001b[1;32m      2\u001b[0m \u001b[0;32mfrom\u001b[0m \u001b[0msome_module\u001b[0m \u001b[0;32mimport\u001b[0m \u001b[0mPI\u001b[0m \u001b[0;32mas\u001b[0m \u001b[0mpi\u001b[0m\u001b[0;34m,\u001b[0m \u001b[0mg\u001b[0m \u001b[0;32mas\u001b[0m \u001b[0mgf\u001b[0m\u001b[0;34m\u001b[0m\u001b[0;34m\u001b[0m\u001b[0m\n",
      "\u001b[0;31mModuleNotFoundError\u001b[0m: No module named 'some_module'"
     ]
    }
   ],
   "source": [
    "import some_module as sm\n",
    "from some_module import PI as pi, g as gf"
   ]
  },
  {
   "cell_type": "markdown",
   "metadata": {},
   "source": [
    "a // b Floor-divide a by b, dropping any fractional remainder\n",
    "a ** b Raise a to the b power\n",
    "a & b True if both a and b are True; for integers, take the bitwise AND\n",
    "a | b True if either a or b is True; for integers, take the bitwise OR\n",
    "a ^ b For booleans, True if a or b is True, but not both; for integers, take the bitwise EXCLUSIVE-OR"
   ]
  },
  {
   "cell_type": "markdown",
   "metadata": {},
   "source": [
    "mutable objects: lists, dicts, NumPy arrays, and most user-defined types.\n",
    "immutable: strings, tuples"
   ]
  },
  {
   "cell_type": "code",
   "execution_count": 28,
   "metadata": {},
   "outputs": [
    {
     "name": "stdout",
     "output_type": "stream",
     "text": [
      "This is a long\n",
      "string that \n",
      "spans multiple lines\n"
     ]
    },
    {
     "data": {
      "text/plain": [
       "2"
      ]
     },
     "execution_count": 28,
     "metadata": {},
     "output_type": "execute_result"
    }
   ],
   "source": [
    "c = '''This is a long\n",
    "string that \n",
    "spans multiple lines'''\n",
    "\n",
    "print(c)\n",
    "c.count('\\n')"
   ]
  },
  {
   "cell_type": "code",
   "execution_count": null,
   "metadata": {},
   "outputs": [],
   "source": []
  }
 ],
 "metadata": {
  "kernelspec": {
   "display_name": "Python 3",
   "language": "python",
   "name": "python3"
  },
  "language_info": {
   "codemirror_mode": {
    "name": "ipython",
    "version": 3
   },
   "file_extension": ".py",
   "mimetype": "text/x-python",
   "name": "python",
   "nbconvert_exporter": "python",
   "pygments_lexer": "ipython3",
   "version": "3.8.5"
  }
 },
 "nbformat": 4,
 "nbformat_minor": 4
}
